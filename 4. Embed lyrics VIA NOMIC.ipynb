{
 "cells": [
  {
   "cell_type": "code",
   "execution_count": 1,
   "id": "f37b6dce",
   "metadata": {},
   "outputs": [
    {
     "data": {
      "text/plain": [
       "'1.19.5'"
      ]
     },
     "execution_count": 1,
     "metadata": {},
     "output_type": "execute_result"
    }
   ],
   "source": [
    "import pandas as pd\n",
    "import numpy as np\n",
    "\n",
    "np.__version__"
   ]
  },
  {
   "cell_type": "markdown",
   "id": "cfbff2d8",
   "metadata": {},
   "source": [
    "# Pull in data (prepped in other notebook)"
   ]
  },
  {
   "cell_type": "code",
   "execution_count": 2,
   "id": "fbc360d4",
   "metadata": {},
   "outputs": [],
   "source": [
    "lyric_lines_ready_for_analysis = pd.read_csv('./data/3 DONE RIGHT OUTPUT One lyric lines per row, cleaned.csv')"
   ]
  },
  {
   "cell_type": "code",
   "execution_count": 3,
   "id": "938f8f13",
   "metadata": {},
   "outputs": [
    {
     "data": {
      "text/html": [
       "<div>\n",
       "<style scoped>\n",
       "    .dataframe tbody tr th:only-of-type {\n",
       "        vertical-align: middle;\n",
       "    }\n",
       "\n",
       "    .dataframe tbody tr th {\n",
       "        vertical-align: top;\n",
       "    }\n",
       "\n",
       "    .dataframe thead th {\n",
       "        text-align: right;\n",
       "    }\n",
       "</style>\n",
       "<table border=\"1\" class=\"dataframe\">\n",
       "  <thead>\n",
       "    <tr style=\"text-align: right;\">\n",
       "      <th></th>\n",
       "      <th>performer</th>\n",
       "      <th>song</th>\n",
       "      <th>lyric_line</th>\n",
       "      <th>chart_debut</th>\n",
       "      <th>chart_debut_date_as_a_decimal</th>\n",
       "    </tr>\n",
       "  </thead>\n",
       "  <tbody>\n",
       "    <tr>\n",
       "      <th>0</th>\n",
       "      <td>John Lennon</td>\n",
       "      <td>#9 Dream</td>\n",
       "      <td>So long ago</td>\n",
       "      <td>1974-12-21</td>\n",
       "      <td>1974.97</td>\n",
       "    </tr>\n",
       "    <tr>\n",
       "      <th>1</th>\n",
       "      <td>John Lennon</td>\n",
       "      <td>#9 Dream</td>\n",
       "      <td>Was it in a dream, was it just a dream?</td>\n",
       "      <td>1974-12-21</td>\n",
       "      <td>1974.97</td>\n",
       "    </tr>\n",
       "    <tr>\n",
       "      <th>2</th>\n",
       "      <td>John Lennon</td>\n",
       "      <td>#9 Dream</td>\n",
       "      <td>I know, yes I know</td>\n",
       "      <td>1974-12-21</td>\n",
       "      <td>1974.97</td>\n",
       "    </tr>\n",
       "    <tr>\n",
       "      <th>3</th>\n",
       "      <td>John Lennon</td>\n",
       "      <td>#9 Dream</td>\n",
       "      <td>Seemed so very real, it seemed so real to me</td>\n",
       "      <td>1974-12-21</td>\n",
       "      <td>1974.97</td>\n",
       "    </tr>\n",
       "    <tr>\n",
       "      <th>4</th>\n",
       "      <td>John Lennon</td>\n",
       "      <td>#9 Dream</td>\n",
       "      <td>Took a walk down the street</td>\n",
       "      <td>1974-12-21</td>\n",
       "      <td>1974.97</td>\n",
       "    </tr>\n",
       "  </tbody>\n",
       "</table>\n",
       "</div>"
      ],
      "text/plain": [
       "     performer      song                                    lyric_line  \\\n",
       "0  John Lennon  #9 Dream                                   So long ago   \n",
       "1  John Lennon  #9 Dream       Was it in a dream, was it just a dream?   \n",
       "2  John Lennon  #9 Dream                            I know, yes I know   \n",
       "3  John Lennon  #9 Dream  Seemed so very real, it seemed so real to me   \n",
       "4  John Lennon  #9 Dream                   Took a walk down the street   \n",
       "\n",
       "  chart_debut  chart_debut_date_as_a_decimal  \n",
       "0  1974-12-21                        1974.97  \n",
       "1  1974-12-21                        1974.97  \n",
       "2  1974-12-21                        1974.97  \n",
       "3  1974-12-21                        1974.97  \n",
       "4  1974-12-21                        1974.97  "
      ]
     },
     "execution_count": 3,
     "metadata": {},
     "output_type": "execute_result"
    }
   ],
   "source": [
    "lyric_lines_ready_for_analysis.head()"
   ]
  },
  {
   "cell_type": "markdown",
   "id": "e6b8afe0",
   "metadata": {},
   "source": [
    "# Create an embedding \"map\" with Nomic's Atlas"
   ]
  },
  {
   "cell_type": "code",
   "execution_count": 4,
   "id": "e0468db7",
   "metadata": {},
   "outputs": [],
   "source": [
    "from nomic import AtlasClient\n",
    "import numpy as np\n",
    "\n",
    "atlas = AtlasClient()"
   ]
  },
  {
   "cell_type": "code",
   "execution_count": 5,
   "id": "e5bee021",
   "metadata": {},
   "outputs": [],
   "source": [
    "nomic_ready_df = lyric_lines_ready_for_analysis[['lyric_line', 'performer', 'song']].to_dict('records')"
   ]
  },
  {
   "cell_type": "code",
   "execution_count": 6,
   "id": "daa1658b",
   "metadata": {},
   "outputs": [
    {
     "data": {
      "text/plain": [
       "{'lyric_line': 'So long ago', 'performer': 'John Lennon', 'song': '#9 Dream'}"
      ]
     },
     "execution_count": 6,
     "metadata": {},
     "output_type": "execute_result"
    }
   ],
   "source": [
    "nomic_ready_df[0]"
   ]
  },
  {
   "cell_type": "code",
   "execution_count": 7,
   "id": "9f393977",
   "metadata": {},
   "outputs": [
    {
     "name": "stderr",
     "output_type": "stream",
     "text": [
      "2022-11-14 16:18:10.697 | INFO     | nomic.atlas:create_project:172 - Creating project `Hot 100 Lyrics through 2022, v0.2: filter some bogus song lyrics, remove non-lyric noise` in organization `davidnmora`\n",
      "2022-11-14 16:18:11.309 | INFO     | nomic.atlas:map_text:900 - Uploading text to Nomic's neural database Atlas.\n",
      "140it [00:26,  5.23it/s]                                                        \n",
      "2022-11-14 16:18:38.095 | INFO     | nomic.atlas:map_text:916 - Text upload succeeded.\n",
      "2022-11-14 16:18:40.678 | INFO     | nomic.atlas:create_index:566 - Created map `Hot 100 Lyrics through 2022, v0.2: filter some bogus song lyrics, remove non-lyric noise` in project `Hot 100 Lyrics through 2022, v0.2: filter some bogus song lyrics, remove non-lyric noise`: https://atlas.nomic.ai/map/3c3fff9b-7f54-4711-bde6-7efb006fa977/5f157a65-f0e4-4984-8d57-67b759d61376\n"
     ]
    }
   ],
   "source": [
    "res = atlas.map_text(\n",
    "  data=nomic_ready_df,\n",
    "  indexed_field='lyric_line',\n",
    "  is_public=True,\n",
    "  map_name='Hot 100 Lyrics through 2022, v0.2: filter some bogus song lyrics, remove non-lyric noise',\n",
    "  map_description='hopefully you do not see stuff like \"Verse 1\" or too much non-lyrics. should still be some bogus lyrics tho',\n",
    "  num_workers=20\n",
    ")\n"
   ]
  },
  {
   "cell_type": "code",
   "execution_count": 8,
   "id": "2a22c67e",
   "metadata": {},
   "outputs": [
    {
     "data": {
      "text/plain": [
       "'https://atlas.nomic.ai/map/3c3fff9b-7f54-4711-bde6-7efb006fa977/5f157a65-f0e4-4984-8d57-67b759d61376'"
      ]
     },
     "execution_count": 8,
     "metadata": {},
     "output_type": "execute_result"
    }
   ],
   "source": [
    "res['map']"
   ]
  },
  {
   "cell_type": "code",
   "execution_count": null,
   "id": "5257501f",
   "metadata": {},
   "outputs": [],
   "source": []
  }
 ],
 "metadata": {
  "kernelspec": {
   "display_name": "Python 3 (ipykernel)",
   "language": "python",
   "name": "python3"
  },
  "language_info": {
   "codemirror_mode": {
    "name": "ipython",
    "version": 3
   },
   "file_extension": ".py",
   "mimetype": "text/x-python",
   "name": "python",
   "nbconvert_exporter": "python",
   "pygments_lexer": "ipython3",
   "version": "3.7.12"
  }
 },
 "nbformat": 4,
 "nbformat_minor": 5
}
