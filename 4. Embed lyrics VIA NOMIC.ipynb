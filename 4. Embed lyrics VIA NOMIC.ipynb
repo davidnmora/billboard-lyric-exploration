{
 "cells": [
  {
   "cell_type": "code",
   "execution_count": 2,
   "id": "f37b6dce",
   "metadata": {},
   "outputs": [
    {
     "data": {
      "text/plain": [
       "'1.19.5'"
      ]
     },
     "execution_count": 2,
     "metadata": {},
     "output_type": "execute_result"
    }
   ],
   "source": [
    "import pandas as pd\n",
    "import numpy as np\n",
    "\n",
    "np.__version__"
   ]
  },
  {
   "cell_type": "markdown",
   "id": "cfbff2d8",
   "metadata": {},
   "source": [
    "# Pull in data (prepped in other notebook)"
   ]
  },
  {
   "cell_type": "code",
   "execution_count": 3,
   "id": "fbc360d4",
   "metadata": {},
   "outputs": [],
   "source": [
    "lyric_lines_ready_for_analysis = pd.read_csv('./data/3 DONE RIGHT OUTPUT One lyric lines per row, cleaned.csv')"
   ]
  },
  {
   "cell_type": "code",
   "execution_count": 5,
   "id": "938f8f13",
   "metadata": {},
   "outputs": [
    {
     "data": {
      "text/html": [
       "<div>\n",
       "<style scoped>\n",
       "    .dataframe tbody tr th:only-of-type {\n",
       "        vertical-align: middle;\n",
       "    }\n",
       "\n",
       "    .dataframe tbody tr th {\n",
       "        vertical-align: top;\n",
       "    }\n",
       "\n",
       "    .dataframe thead th {\n",
       "        text-align: right;\n",
       "    }\n",
       "</style>\n",
       "<table border=\"1\" class=\"dataframe\">\n",
       "  <thead>\n",
       "    <tr style=\"text-align: right;\">\n",
       "      <th></th>\n",
       "      <th>performer</th>\n",
       "      <th>song</th>\n",
       "      <th>lyric_line</th>\n",
       "      <th>chart_debut</th>\n",
       "    </tr>\n",
       "  </thead>\n",
       "  <tbody>\n",
       "    <tr>\n",
       "      <th>0</th>\n",
       "      <td>John Lennon</td>\n",
       "      <td>#9 Dream</td>\n",
       "      <td>#9 Dream Lyrics[Verse 1]</td>\n",
       "      <td>1974-12-21</td>\n",
       "    </tr>\n",
       "    <tr>\n",
       "      <th>1</th>\n",
       "      <td>John Lennon</td>\n",
       "      <td>#9 Dream</td>\n",
       "      <td>So long ago</td>\n",
       "      <td>1974-12-21</td>\n",
       "    </tr>\n",
       "    <tr>\n",
       "      <th>2</th>\n",
       "      <td>John Lennon</td>\n",
       "      <td>#9 Dream</td>\n",
       "      <td>Was it in a dream, was it just a dream?</td>\n",
       "      <td>1974-12-21</td>\n",
       "    </tr>\n",
       "    <tr>\n",
       "      <th>3</th>\n",
       "      <td>John Lennon</td>\n",
       "      <td>#9 Dream</td>\n",
       "      <td>I know, yes I know</td>\n",
       "      <td>1974-12-21</td>\n",
       "    </tr>\n",
       "    <tr>\n",
       "      <th>4</th>\n",
       "      <td>John Lennon</td>\n",
       "      <td>#9 Dream</td>\n",
       "      <td>Seemed so very real, it seemed so real to me</td>\n",
       "      <td>1974-12-21</td>\n",
       "    </tr>\n",
       "  </tbody>\n",
       "</table>\n",
       "</div>"
      ],
      "text/plain": [
       "     performer      song                                    lyric_line  \\\n",
       "0  John Lennon  #9 Dream                      #9 Dream Lyrics[Verse 1]   \n",
       "1  John Lennon  #9 Dream                                   So long ago   \n",
       "2  John Lennon  #9 Dream       Was it in a dream, was it just a dream?   \n",
       "3  John Lennon  #9 Dream                            I know, yes I know   \n",
       "4  John Lennon  #9 Dream  Seemed so very real, it seemed so real to me   \n",
       "\n",
       "  chart_debut  \n",
       "0  1974-12-21  \n",
       "1  1974-12-21  \n",
       "2  1974-12-21  \n",
       "3  1974-12-21  \n",
       "4  1974-12-21  "
      ]
     },
     "execution_count": 5,
     "metadata": {},
     "output_type": "execute_result"
    }
   ],
   "source": [
    "lyric_lines_ready_for_analysis.head()"
   ]
  },
  {
   "cell_type": "markdown",
   "id": "e6b8afe0",
   "metadata": {},
   "source": [
    "# Create an embedding \"map\" with Nomic's Atlas"
   ]
  },
  {
   "cell_type": "code",
   "execution_count": 15,
   "id": "e0468db7",
   "metadata": {},
   "outputs": [],
   "source": [
    "from nomic import AtlasClient\n",
    "import numpy as np\n",
    "\n",
    "atlas = AtlasClient()"
   ]
  },
  {
   "cell_type": "code",
   "execution_count": 16,
   "id": "e5bee021",
   "metadata": {},
   "outputs": [],
   "source": [
    "nomic_ready_df = lyric_lines_ready_for_analysis[['lyric_line', 'performer', 'song']].to_dict('records')"
   ]
  },
  {
   "cell_type": "code",
   "execution_count": 21,
   "id": "daa1658b",
   "metadata": {},
   "outputs": [
    {
     "data": {
      "text/plain": [
       "{'lyric_line': '#9 Dream Lyrics[Verse 1]',\n",
       " 'performer': 'John Lennon',\n",
       " 'song': '#9 Dream',\n",
       " 'id_': 'fdd88add-fc84-42ff-bf34-9a977a8077bf'}"
      ]
     },
     "execution_count": 21,
     "metadata": {},
     "output_type": "execute_result"
    }
   ],
   "source": [
    "nomic_ready_df[0]"
   ]
  },
  {
   "cell_type": "code",
   "execution_count": 22,
   "id": "9f393977",
   "metadata": {},
   "outputs": [
    {
     "name": "stderr",
     "output_type": "stream",
     "text": [
      "2022-10-30 16:42:40.320 | INFO     | nomic.atlas:create_project:172 - Creating project `Hot 100 Lyrics through 2022, v0 TEST` in organization `davidnmora`\n"
     ]
    },
    {
     "ename": "Exception",
     "evalue": "Failed to create project: {'detail': 'You have reached the maximum number of projects you can create.'}",
     "output_type": "error",
     "traceback": [
      "\u001b[0;31m---------------------------------------------------------------------------\u001b[0m",
      "\u001b[0;31mException\u001b[0m                                 Traceback (most recent call last)",
      "\u001b[0;32m/var/folders/qm/hg0z0b3570ldt1jhxt40z2hm0000gn/T/ipykernel_3039/2785260270.py\u001b[0m in \u001b[0;36m<module>\u001b[0;34m\u001b[0m\n\u001b[1;32m      5\u001b[0m   \u001b[0mmap_name\u001b[0m\u001b[0;34m=\u001b[0m\u001b[0;34m'Hot 100 Lyrics through 2022, v0 TEST'\u001b[0m\u001b[0;34m,\u001b[0m\u001b[0;34m\u001b[0m\u001b[0;34m\u001b[0m\u001b[0m\n\u001b[1;32m      6\u001b[0m   \u001b[0mmap_description\u001b[0m\u001b[0;34m=\u001b[0m\u001b[0;34m'We lost genre, but now we have a more complete dataset that also uses lyrics we fetched (so likely less sketch)'\u001b[0m\u001b[0;34m,\u001b[0m\u001b[0;34m\u001b[0m\u001b[0;34m\u001b[0m\u001b[0m\n\u001b[0;32m----> 7\u001b[0;31m   \u001b[0mnum_workers\u001b[0m\u001b[0;34m=\u001b[0m\u001b[0;36m10\u001b[0m\u001b[0;34m\u001b[0m\u001b[0;34m\u001b[0m\u001b[0m\n\u001b[0m\u001b[1;32m      8\u001b[0m )\n",
      "\u001b[0;32m~/.virtualenvs/jupyter3.7/lib/python3.7/site-packages/nomic/atlas.py\u001b[0m in \u001b[0;36mmap_text\u001b[0;34m(self, data, indexed_field, is_public, colorable_fields, num_workers, map_name, map_description, organization_name, projection_n_neighbors, projection_epochs, projection_spread)\u001b[0m\n\u001b[1;32m    893\u001b[0m             \u001b[0mmodality\u001b[0m\u001b[0;34m=\u001b[0m\u001b[0;34m'text'\u001b[0m\u001b[0;34m,\u001b[0m\u001b[0;34m\u001b[0m\u001b[0;34m\u001b[0m\u001b[0m\n\u001b[1;32m    894\u001b[0m             \u001b[0mis_public\u001b[0m\u001b[0;34m=\u001b[0m\u001b[0mis_public\u001b[0m\u001b[0;34m,\u001b[0m\u001b[0;34m\u001b[0m\u001b[0;34m\u001b[0m\u001b[0m\n\u001b[0;32m--> 895\u001b[0;31m             \u001b[0morganization_name\u001b[0m\u001b[0;34m=\u001b[0m\u001b[0morganization_name\u001b[0m\u001b[0;34m,\u001b[0m\u001b[0;34m\u001b[0m\u001b[0;34m\u001b[0m\u001b[0m\n\u001b[0m\u001b[1;32m    896\u001b[0m         )\n\u001b[1;32m    897\u001b[0m \u001b[0;34m\u001b[0m\u001b[0m\n",
      "\u001b[0;32m~/.virtualenvs/jupyter3.7/lib/python3.7/site-packages/nomic/atlas.py\u001b[0m in \u001b[0;36mcreate_project\u001b[0;34m(self, project_name, description, unique_id_field, modality, organization_name, is_public)\u001b[0m\n\u001b[1;32m    185\u001b[0m         )\n\u001b[1;32m    186\u001b[0m         \u001b[0;32mif\u001b[0m \u001b[0mresponse\u001b[0m\u001b[0;34m.\u001b[0m\u001b[0mstatus_code\u001b[0m \u001b[0;34m!=\u001b[0m \u001b[0;36m201\u001b[0m\u001b[0;34m:\u001b[0m\u001b[0;34m\u001b[0m\u001b[0;34m\u001b[0m\u001b[0m\n\u001b[0;32m--> 187\u001b[0;31m             \u001b[0;32mraise\u001b[0m \u001b[0mException\u001b[0m\u001b[0;34m(\u001b[0m\u001b[0;34mf\"Failed to create project: {response.json()}\"\u001b[0m\u001b[0;34m)\u001b[0m\u001b[0;34m\u001b[0m\u001b[0;34m\u001b[0m\u001b[0m\n\u001b[0m\u001b[1;32m    188\u001b[0m         \u001b[0;32mreturn\u001b[0m \u001b[0mresponse\u001b[0m\u001b[0;34m.\u001b[0m\u001b[0mjson\u001b[0m\u001b[0;34m(\u001b[0m\u001b[0;34m)\u001b[0m\u001b[0;34m[\u001b[0m\u001b[0;34m'project_id'\u001b[0m\u001b[0;34m]\u001b[0m\u001b[0;34m\u001b[0m\u001b[0;34m\u001b[0m\u001b[0m\n\u001b[1;32m    189\u001b[0m \u001b[0;34m\u001b[0m\u001b[0m\n",
      "\u001b[0;31mException\u001b[0m: Failed to create project: {'detail': 'You have reached the maximum number of projects you can create.'}"
     ]
    }
   ],
   "source": [
    "res = atlas.map_text(\n",
    "  data=nomic_ready_df,\n",
    "  indexed_field='lyric_line',\n",
    "  is_public=True,\n",
    "  map_name='Hot 100 Lyrics through 2022, v0',\n",
    "  map_description='We lost genre, but now we have a more complete dataset that also uses lyrics we fetched (so likely less sketch)',\n",
    "  num_workers=10\n",
    ")\n"
   ]
  },
  {
   "cell_type": "code",
   "execution_count": 20,
   "id": "2a22c67e",
   "metadata": {},
   "outputs": [
    {
     "data": {
      "text/plain": [
       "'https://atlas.nomic.ai/map/a3df9017-f733-444f-bc9c-e1c14011fc32/2ce6e697-cb47-4b80-8a77-bf06379acade'"
      ]
     },
     "execution_count": 20,
     "metadata": {},
     "output_type": "execute_result"
    }
   ],
   "source": [
    "res['map']"
   ]
  },
  {
   "cell_type": "code",
   "execution_count": null,
   "id": "5257501f",
   "metadata": {},
   "outputs": [],
   "source": []
  }
 ],
 "metadata": {
  "kernelspec": {
   "display_name": "Python 3 (ipykernel)",
   "language": "python",
   "name": "python3"
  },
  "language_info": {
   "codemirror_mode": {
    "name": "ipython",
    "version": 3
   },
   "file_extension": ".py",
   "mimetype": "text/x-python",
   "name": "python",
   "nbconvert_exporter": "python",
   "pygments_lexer": "ipython3",
   "version": "3.7.12"
  }
 },
 "nbformat": 4,
 "nbformat_minor": 5
}
