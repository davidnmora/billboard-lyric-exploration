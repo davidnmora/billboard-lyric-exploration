{
 "cells": [
  {
   "cell_type": "code",
   "execution_count": 4,
   "id": "f37b6dce",
   "metadata": {},
   "outputs": [
    {
     "data": {
      "text/plain": [
       "'1.19.5'"
      ]
     },
     "execution_count": 4,
     "metadata": {},
     "output_type": "execute_result"
    }
   ],
   "source": [
    "import pandas as pd\n",
    "import numpy as np\n",
    "\n",
    "np.__version__"
   ]
  },
  {
   "cell_type": "markdown",
   "id": "cfbff2d8",
   "metadata": {},
   "source": [
    "# Pull in data (prepped in other notebook)"
   ]
  },
  {
   "cell_type": "code",
   "execution_count": 5,
   "id": "fbc360d4",
   "metadata": {},
   "outputs": [],
   "source": [
    "df = pd.read_csv('./data/2 OUTPUT Songs with metadata and lyrics.csv')"
   ]
  },
  {
   "cell_type": "code",
   "execution_count": 6,
   "id": "938f8f13",
   "metadata": {},
   "outputs": [
    {
     "data": {
      "text/html": [
       "<div>\n",
       "<style scoped>\n",
       "    .dataframe tbody tr th:only-of-type {\n",
       "        vertical-align: middle;\n",
       "    }\n",
       "\n",
       "    .dataframe tbody tr th {\n",
       "        vertical-align: top;\n",
       "    }\n",
       "\n",
       "    .dataframe thead th {\n",
       "        text-align: right;\n",
       "    }\n",
       "</style>\n",
       "<table border=\"1\" class=\"dataframe\">\n",
       "  <thead>\n",
       "    <tr style=\"text-align: right;\">\n",
       "      <th></th>\n",
       "      <th>SongID</th>\n",
       "      <th>Performer</th>\n",
       "      <th>Song</th>\n",
       "      <th>spotify_genre</th>\n",
       "      <th>spotify_track_preview_url</th>\n",
       "      <th>spotify_track_explicit</th>\n",
       "      <th>spotify_track_album</th>\n",
       "      <th>WeekID</th>\n",
       "      <th>Peak Position</th>\n",
       "      <th>Lyrics</th>\n",
       "    </tr>\n",
       "  </thead>\n",
       "  <tbody>\n",
       "    <tr>\n",
       "      <th>0</th>\n",
       "      <td>#9 DreamJohn Lennon</td>\n",
       "      <td>John Lennon</td>\n",
       "      <td>#9 Dream</td>\n",
       "      <td>['album rock', 'classic rock', 'folk rock', 'm...</td>\n",
       "      <td>NaN</td>\n",
       "      <td>False</td>\n",
       "      <td>Walls And Bridges</td>\n",
       "      <td>2/22/1975</td>\n",
       "      <td>9</td>\n",
       "      <td>[Verse 1]\\nSo long ago\\nWas it in a dream, was...</td>\n",
       "    </tr>\n",
       "    <tr>\n",
       "      <th>1</th>\n",
       "      <td>'03 Bonnie &amp; ClydeJay-Z Featuring Beyonce Knowles</td>\n",
       "      <td>Jay-Z Featuring Beyonce Knowles</td>\n",
       "      <td>'03 Bonnie &amp; Clyde</td>\n",
       "      <td>['east coast hip hop', 'hip hop', 'pop rap', '...</td>\n",
       "      <td>NaN</td>\n",
       "      <td>True</td>\n",
       "      <td>The Blueprint 2 The Gift &amp; The Curse</td>\n",
       "      <td>12/28/2002</td>\n",
       "      <td>4</td>\n",
       "      <td>[Intro: Jay Z]\\nUhh, uhh, uhh\\nYou ready, B?\\n...</td>\n",
       "    </tr>\n",
       "    <tr>\n",
       "      <th>2</th>\n",
       "      <td>'65 Love AffairPaul Davis</td>\n",
       "      <td>Paul Davis</td>\n",
       "      <td>'65 Love Affair</td>\n",
       "      <td>['album rock', 'bubblegum pop', 'country rock'...</td>\n",
       "      <td>https://p.scdn.co/mp3-preview/a701445830ecacfb...</td>\n",
       "      <td>False</td>\n",
       "      <td>Radio Hits Of the '80s</td>\n",
       "      <td>6/12/1982</td>\n",
       "      <td>6</td>\n",
       "      <td>'65 love affair\\nPaul Davis\\n\\nI was a car hop...</td>\n",
       "    </tr>\n",
       "    <tr>\n",
       "      <th>3</th>\n",
       "      <td>('til) I Kissed YouThe Everly Brothers</td>\n",
       "      <td>The Everly Brothers</td>\n",
       "      <td>('til) I Kissed You</td>\n",
       "      <td>['adult standards', 'brill building pop', 'bub...</td>\n",
       "      <td>https://p.scdn.co/mp3-preview/c1719c80d7145e73...</td>\n",
       "      <td>False</td>\n",
       "      <td>The Very Best of The Everly Brothers</td>\n",
       "      <td>10/24/1959</td>\n",
       "      <td>4</td>\n",
       "      <td>Never felt like this until I kissed ya\\nHow di...</td>\n",
       "    </tr>\n",
       "    <tr>\n",
       "      <th>4</th>\n",
       "      <td>(Can't Live Without Your) Love And AffectionNe...</td>\n",
       "      <td>Nelson</td>\n",
       "      <td>(Can't Live Without Your) Love And Affection</td>\n",
       "      <td>['classic country pop', 'country', 'nashville ...</td>\n",
       "      <td>NaN</td>\n",
       "      <td>False</td>\n",
       "      <td>After The Rain (Remastered)</td>\n",
       "      <td>12/22/1990</td>\n",
       "      <td>1</td>\n",
       "      <td>(Here she comes) Mmm, just like an angel\\nSeem...</td>\n",
       "    </tr>\n",
       "  </tbody>\n",
       "</table>\n",
       "</div>"
      ],
      "text/plain": [
       "                                              SongID  \\\n",
       "0                                #9 DreamJohn Lennon   \n",
       "1  '03 Bonnie & ClydeJay-Z Featuring Beyonce Knowles   \n",
       "2                          '65 Love AffairPaul Davis   \n",
       "3             ('til) I Kissed YouThe Everly Brothers   \n",
       "4  (Can't Live Without Your) Love And AffectionNe...   \n",
       "\n",
       "                         Performer  \\\n",
       "0                      John Lennon   \n",
       "1  Jay-Z Featuring Beyonce Knowles   \n",
       "2                       Paul Davis   \n",
       "3              The Everly Brothers   \n",
       "4                           Nelson   \n",
       "\n",
       "                                           Song  \\\n",
       "0                                      #9 Dream   \n",
       "1                            '03 Bonnie & Clyde   \n",
       "2                               '65 Love Affair   \n",
       "3                           ('til) I Kissed You   \n",
       "4  (Can't Live Without Your) Love And Affection   \n",
       "\n",
       "                                       spotify_genre  \\\n",
       "0  ['album rock', 'classic rock', 'folk rock', 'm...   \n",
       "1  ['east coast hip hop', 'hip hop', 'pop rap', '...   \n",
       "2  ['album rock', 'bubblegum pop', 'country rock'...   \n",
       "3  ['adult standards', 'brill building pop', 'bub...   \n",
       "4  ['classic country pop', 'country', 'nashville ...   \n",
       "\n",
       "                           spotify_track_preview_url spotify_track_explicit  \\\n",
       "0                                                NaN                  False   \n",
       "1                                                NaN                   True   \n",
       "2  https://p.scdn.co/mp3-preview/a701445830ecacfb...                  False   \n",
       "3  https://p.scdn.co/mp3-preview/c1719c80d7145e73...                  False   \n",
       "4                                                NaN                  False   \n",
       "\n",
       "                    spotify_track_album      WeekID  Peak Position  \\\n",
       "0                     Walls And Bridges   2/22/1975              9   \n",
       "1  The Blueprint 2 The Gift & The Curse  12/28/2002              4   \n",
       "2                Radio Hits Of the '80s   6/12/1982              6   \n",
       "3  The Very Best of The Everly Brothers  10/24/1959              4   \n",
       "4           After The Rain (Remastered)  12/22/1990              1   \n",
       "\n",
       "                                              Lyrics  \n",
       "0  [Verse 1]\\nSo long ago\\nWas it in a dream, was...  \n",
       "1  [Intro: Jay Z]\\nUhh, uhh, uhh\\nYou ready, B?\\n...  \n",
       "2  '65 love affair\\nPaul Davis\\n\\nI was a car hop...  \n",
       "3  Never felt like this until I kissed ya\\nHow di...  \n",
       "4  (Here she comes) Mmm, just like an angel\\nSeem...  "
      ]
     },
     "execution_count": 6,
     "metadata": {},
     "output_type": "execute_result"
    }
   ],
   "source": [
    "df.head()"
   ]
  },
  {
   "cell_type": "code",
   "execution_count": 5,
   "id": "6c163d67",
   "metadata": {},
   "outputs": [
    {
     "data": {
      "text/plain": [
       "'[Verse 1]\\nI was riding shotgun with my hair undone\\nIn the front seat of his car\\nHe\\'s got a one-hand feel on the steering wheel\\nThe other on my heart\\nI look around, turn the radio down\\nHe says, \"Baby, is something wrong?\"\\nI say, \"Nothing, I was just thinking\\nHow we don\\'t have a song\"\\nAnd he says\\n\\n[Chorus]\\nOur song is the slamming screen door\\nSneakin\\' out late, tapping on your window\\nWhen we\\'re on the phone and you talk real slow\\n\\'Cause it\\'s late and your mama don\\'t know\\nOur song is the way you laugh\\nThe first date: \"Man, I didn\\'t kiss her, and I should have\"\\nAnd when I got home \\'fore I said amen\\nAsking God if he could play it again\\n\\n[Verse 2]\\nI was walking up the front porch steps\\nAfter everything that day\\nHad gone all wrong and been trampled on\\nAnd lost and thrown away\\nGot to the hallway, well on my way\\nTo my lovin\\' bed\\nI almost didn\\'t notice all the roses\\nAnd the note that said\\n\\n[Chorus]\\nOur song is the slamming screen door\\nSneakin\\' out late, tapping on your window\\nWhen we\\'re on the phone and you talk real slow\\n\\'Cause it\\'s late and your mama don\\'t know\\nOur song is the way you laugh\\nThe first date: \"Man, I didn\\'t kiss her, and I should have\"\\nAnd when I got home \\'fore I said amen\\nAsking God if he could play it again\\n\\n[Bridge]\\nI\\'ve heard every album, listened to the radio\\nWaited for something to come along\\nThat was as good as our song\\n\\n[Chorus]\\n\\'Cause our song is the slamming screen door\\nSneakin\\' out late, tapping on his window\\nWhen we\\'re on the phone and he talks real slow\\n\\'Cause it\\'s late and his mama don\\'t know\\nOur song is the way he laughs\\nThe first date: \"Man, I didn\\'t kiss him, and I should have\"\\nAnd when I got home \\'fore I said amen\\nAsking God if he could play it again\\nPlay it again\\n\\n[Outro]\\nI was riding shotgun with my hair undone\\nIn the front seat of his car\\nI grabbed a pen and an old napkin\\nAnd I wrote down our song'"
      ]
     },
     "execution_count": 5,
     "metadata": {},
     "output_type": "execute_result"
    }
   ],
   "source": [
    "df[df.Song == 'Our Song'].Lyrics.iloc[0]"
   ]
  },
  {
   "cell_type": "markdown",
   "id": "0e8a5ba0",
   "metadata": {},
   "source": [
    "# DATA PREP: \"explode\" data into \"one row per line\""
   ]
  },
  {
   "cell_type": "markdown",
   "id": "7eb4f76e",
   "metadata": {},
   "source": [
    "# NOTE: I'm limiting data to1976-1980"
   ]
  },
  {
   "cell_type": "code",
   "execution_count": 7,
   "id": "77e80016",
   "metadata": {},
   "outputs": [
    {
     "data": {
      "text/html": [
       "<div>\n",
       "<style scoped>\n",
       "    .dataframe tbody tr th:only-of-type {\n",
       "        vertical-align: middle;\n",
       "    }\n",
       "\n",
       "    .dataframe tbody tr th {\n",
       "        vertical-align: top;\n",
       "    }\n",
       "\n",
       "    .dataframe thead th {\n",
       "        text-align: right;\n",
       "    }\n",
       "</style>\n",
       "<table border=\"1\" class=\"dataframe\">\n",
       "  <thead>\n",
       "    <tr style=\"text-align: right;\">\n",
       "      <th></th>\n",
       "      <th>SongID</th>\n",
       "      <th>Performer</th>\n",
       "      <th>Song</th>\n",
       "      <th>spotify_genre</th>\n",
       "      <th>spotify_track_preview_url</th>\n",
       "      <th>spotify_track_explicit</th>\n",
       "      <th>spotify_track_album</th>\n",
       "      <th>WeekID</th>\n",
       "      <th>Week Position</th>\n",
       "      <th>Peak Position</th>\n",
       "      <th>Lyrics</th>\n",
       "    </tr>\n",
       "  </thead>\n",
       "  <tbody>\n",
       "    <tr>\n",
       "      <th>9</th>\n",
       "      <td>(Don't Fear) The ReaperBlue Oyster Cult</td>\n",
       "      <td>Blue Oyster Cult</td>\n",
       "      <td>(Don't Fear) The Reaper</td>\n",
       "      <td>['album rock', 'art rock', 'blues rock', 'clas...</td>\n",
       "      <td>https://p.scdn.co/mp3-preview/596db216a6621b8c...</td>\n",
       "      <td>False</td>\n",
       "      <td>Agents Of Fortune</td>\n",
       "      <td>11/20/1976</td>\n",
       "      <td>17.0</td>\n",
       "      <td>12.0</td>\n",
       "      <td>[Intro]\\n\\n[Verse 1: Buck Dharma]\\nAll our tim...</td>\n",
       "    </tr>\n",
       "    <tr>\n",
       "      <th>10</th>\n",
       "      <td>(Every Time I Turn Around) Back In Love AgainLTD</td>\n",
       "      <td>LTD</td>\n",
       "      <td>(Every Time I Turn Around) Back In Love Again</td>\n",
       "      <td>['reggaeton']</td>\n",
       "      <td>NaN</td>\n",
       "      <td>NaN</td>\n",
       "      <td>NaN</td>\n",
       "      <td>2/11/1978</td>\n",
       "      <td>62.0</td>\n",
       "      <td>4.0</td>\n",
       "      <td>Every time I move, I lose\\nWhen I look I'm in\\...</td>\n",
       "    </tr>\n",
       "    <tr>\n",
       "      <th>38</th>\n",
       "      <td>(Love Is) Thicker Than WaterAndy Gibb</td>\n",
       "      <td>Andy Gibb</td>\n",
       "      <td>(Love Is) Thicker Than Water</td>\n",
       "      <td>['adult standards', 'bubblegum pop', 'country ...</td>\n",
       "      <td>NaN</td>\n",
       "      <td>False</td>\n",
       "      <td>Flowing Rivers</td>\n",
       "      <td>5/13/1978</td>\n",
       "      <td>47.0</td>\n",
       "      <td>1.0</td>\n",
       "      <td>[Chorus:]\\nLove is higher than a mountain\\nLov...</td>\n",
       "    </tr>\n",
       "    <tr>\n",
       "      <th>41</th>\n",
       "      <td>(Our Love) Don't Throw It All AwayAndy Gibb</td>\n",
       "      <td>Andy Gibb</td>\n",
       "      <td>(Our Love) Don't Throw It All Away</td>\n",
       "      <td>['adult standards', 'bubblegum pop', 'country ...</td>\n",
       "      <td>NaN</td>\n",
       "      <td>False</td>\n",
       "      <td>Shadow Dancing</td>\n",
       "      <td>2/3/1979</td>\n",
       "      <td>53.0</td>\n",
       "      <td>9.0</td>\n",
       "      <td>Maybe I don't wanna know the reason why\\nBut l...</td>\n",
       "    </tr>\n",
       "    <tr>\n",
       "      <th>43</th>\n",
       "      <td>(Shake, Shake, Shake) Shake Your BootyKC And T...</td>\n",
       "      <td>KC And The Sunshine Band</td>\n",
       "      <td>(Shake, Shake, Shake) Shake Your Booty</td>\n",
       "      <td>['disco', 'funk', 'motown', 'soft rock']</td>\n",
       "      <td>https://p.scdn.co/mp3-preview/fe0fa4239fab4ad7...</td>\n",
       "      <td>False</td>\n",
       "      <td>KC &amp; The Sunshine Band - Part 3...And More</td>\n",
       "      <td>11/20/1976</td>\n",
       "      <td>44.0</td>\n",
       "      <td>1.0</td>\n",
       "      <td>[Intro]\\nAh everybody, get on the floor, and l...</td>\n",
       "    </tr>\n",
       "    <tr>\n",
       "      <th>...</th>\n",
       "      <td>...</td>\n",
       "      <td>...</td>\n",
       "      <td>...</td>\n",
       "      <td>...</td>\n",
       "      <td>...</td>\n",
       "      <td>...</td>\n",
       "      <td>...</td>\n",
       "      <td>...</td>\n",
       "      <td>...</td>\n",
       "      <td>...</td>\n",
       "      <td>...</td>\n",
       "    </tr>\n",
       "    <tr>\n",
       "      <th>7368</th>\n",
       "      <td>You're The Only Woman (You &amp; I)Ambrosia</td>\n",
       "      <td>Ambrosia</td>\n",
       "      <td>You're The Only Woman (You &amp; I)</td>\n",
       "      <td>['adult standards', 'album rock', 'art rock', ...</td>\n",
       "      <td>https://p.scdn.co/mp3-preview/c8ffa80fb4fe60de...</td>\n",
       "      <td>False</td>\n",
       "      <td>One Eighty</td>\n",
       "      <td>9/20/1980</td>\n",
       "      <td>13.0</td>\n",
       "      <td>13.0</td>\n",
       "      <td>Oh baby\\nSay, now, you\\nYou talk about The thi...</td>\n",
       "    </tr>\n",
       "    <tr>\n",
       "      <th>7383</th>\n",
       "      <td>Young BloodBad Company</td>\n",
       "      <td>Bad Company</td>\n",
       "      <td>Young Blood</td>\n",
       "      <td>['album rock', 'blues rock', 'classic rock', '...</td>\n",
       "      <td>https://p.scdn.co/mp3-preview/32e39a60def288ae...</td>\n",
       "      <td>False</td>\n",
       "      <td>Run With The Pack (Deluxe)</td>\n",
       "      <td>6/12/1976</td>\n",
       "      <td>64.0</td>\n",
       "      <td>20.0</td>\n",
       "      <td>I saw her standing on the corner\\nA yellow rib...</td>\n",
       "    </tr>\n",
       "    <tr>\n",
       "      <th>7387</th>\n",
       "      <td>Young Hearts Run FreeCandi Staton</td>\n",
       "      <td>Candi Staton</td>\n",
       "      <td>Young Hearts Run Free</td>\n",
       "      <td>['classic soul', 'disco', 'motown', 'quiet sto...</td>\n",
       "      <td>https://p.scdn.co/mp3-preview/b0b96bb7e0e4f151...</td>\n",
       "      <td>False</td>\n",
       "      <td>Young Hearts Run Free (US Internet Release)</td>\n",
       "      <td>8/21/1976</td>\n",
       "      <td>20.0</td>\n",
       "      <td>20.0</td>\n",
       "      <td>What's the sense in sharing this one and only ...</td>\n",
       "    </tr>\n",
       "    <tr>\n",
       "      <th>7400</th>\n",
       "      <td>Your LoveMarilyn McCoo &amp; Billy Davis, Jr.</td>\n",
       "      <td>Marilyn McCoo &amp; Billy Davis, Jr.</td>\n",
       "      <td>Your Love</td>\n",
       "      <td>[]</td>\n",
       "      <td>https://p.scdn.co/mp3-preview/4fb26d7f63aee83b...</td>\n",
       "      <td>False</td>\n",
       "      <td>I Hope We Get To Love In Time</td>\n",
       "      <td>5/28/1977</td>\n",
       "      <td>65.0</td>\n",
       "      <td>15.0</td>\n",
       "      <td>YOUR LOVE\\nMarilyn McCoo &amp; Billy Davis\\nEach d...</td>\n",
       "    </tr>\n",
       "    <tr>\n",
       "      <th>7406</th>\n",
       "      <td>Your Smiling FaceJames Taylor</td>\n",
       "      <td>James Taylor</td>\n",
       "      <td>Your Smiling Face</td>\n",
       "      <td>['adult standards', 'folk', 'folk rock', 'mell...</td>\n",
       "      <td>https://p.scdn.co/mp3-preview/73345f373382a094...</td>\n",
       "      <td>False</td>\n",
       "      <td>JT</td>\n",
       "      <td>12/24/1977</td>\n",
       "      <td>38.0</td>\n",
       "      <td>20.0</td>\n",
       "      <td>[Verse 1]\\nWhenever I see your smiling face\\nI...</td>\n",
       "    </tr>\n",
       "  </tbody>\n",
       "</table>\n",
       "<p>654 rows × 11 columns</p>\n",
       "</div>"
      ],
      "text/plain": [
       "                                                 SongID  \\\n",
       "9               (Don't Fear) The ReaperBlue Oyster Cult   \n",
       "10     (Every Time I Turn Around) Back In Love AgainLTD   \n",
       "38                (Love Is) Thicker Than WaterAndy Gibb   \n",
       "41          (Our Love) Don't Throw It All AwayAndy Gibb   \n",
       "43    (Shake, Shake, Shake) Shake Your BootyKC And T...   \n",
       "...                                                 ...   \n",
       "7368            You're The Only Woman (You & I)Ambrosia   \n",
       "7383                             Young BloodBad Company   \n",
       "7387                  Young Hearts Run FreeCandi Staton   \n",
       "7400          Your LoveMarilyn McCoo & Billy Davis, Jr.   \n",
       "7406                      Your Smiling FaceJames Taylor   \n",
       "\n",
       "                             Performer  \\\n",
       "9                     Blue Oyster Cult   \n",
       "10                                 LTD   \n",
       "38                           Andy Gibb   \n",
       "41                           Andy Gibb   \n",
       "43            KC And The Sunshine Band   \n",
       "...                                ...   \n",
       "7368                          Ambrosia   \n",
       "7383                       Bad Company   \n",
       "7387                      Candi Staton   \n",
       "7400  Marilyn McCoo & Billy Davis, Jr.   \n",
       "7406                      James Taylor   \n",
       "\n",
       "                                               Song  \\\n",
       "9                           (Don't Fear) The Reaper   \n",
       "10    (Every Time I Turn Around) Back In Love Again   \n",
       "38                     (Love Is) Thicker Than Water   \n",
       "41               (Our Love) Don't Throw It All Away   \n",
       "43           (Shake, Shake, Shake) Shake Your Booty   \n",
       "...                                             ...   \n",
       "7368                You're The Only Woman (You & I)   \n",
       "7383                                    Young Blood   \n",
       "7387                          Young Hearts Run Free   \n",
       "7400                                      Your Love   \n",
       "7406                              Your Smiling Face   \n",
       "\n",
       "                                          spotify_genre  \\\n",
       "9     ['album rock', 'art rock', 'blues rock', 'clas...   \n",
       "10                                        ['reggaeton']   \n",
       "38    ['adult standards', 'bubblegum pop', 'country ...   \n",
       "41    ['adult standards', 'bubblegum pop', 'country ...   \n",
       "43             ['disco', 'funk', 'motown', 'soft rock']   \n",
       "...                                                 ...   \n",
       "7368  ['adult standards', 'album rock', 'art rock', ...   \n",
       "7383  ['album rock', 'blues rock', 'classic rock', '...   \n",
       "7387  ['classic soul', 'disco', 'motown', 'quiet sto...   \n",
       "7400                                                 []   \n",
       "7406  ['adult standards', 'folk', 'folk rock', 'mell...   \n",
       "\n",
       "                              spotify_track_preview_url  \\\n",
       "9     https://p.scdn.co/mp3-preview/596db216a6621b8c...   \n",
       "10                                                  NaN   \n",
       "38                                                  NaN   \n",
       "41                                                  NaN   \n",
       "43    https://p.scdn.co/mp3-preview/fe0fa4239fab4ad7...   \n",
       "...                                                 ...   \n",
       "7368  https://p.scdn.co/mp3-preview/c8ffa80fb4fe60de...   \n",
       "7383  https://p.scdn.co/mp3-preview/32e39a60def288ae...   \n",
       "7387  https://p.scdn.co/mp3-preview/b0b96bb7e0e4f151...   \n",
       "7400  https://p.scdn.co/mp3-preview/4fb26d7f63aee83b...   \n",
       "7406  https://p.scdn.co/mp3-preview/73345f373382a094...   \n",
       "\n",
       "     spotify_track_explicit                          spotify_track_album  \\\n",
       "9                     False                            Agents Of Fortune   \n",
       "10                      NaN                                          NaN   \n",
       "38                    False                               Flowing Rivers   \n",
       "41                    False                               Shadow Dancing   \n",
       "43                    False   KC & The Sunshine Band - Part 3...And More   \n",
       "...                     ...                                          ...   \n",
       "7368                  False                                   One Eighty   \n",
       "7383                  False                   Run With The Pack (Deluxe)   \n",
       "7387                  False  Young Hearts Run Free (US Internet Release)   \n",
       "7400                  False                I Hope We Get To Love In Time   \n",
       "7406                  False                                           JT   \n",
       "\n",
       "          WeekID  Week Position  Peak Position  \\\n",
       "9     11/20/1976           17.0           12.0   \n",
       "10     2/11/1978           62.0            4.0   \n",
       "38     5/13/1978           47.0            1.0   \n",
       "41      2/3/1979           53.0            9.0   \n",
       "43    11/20/1976           44.0            1.0   \n",
       "...          ...            ...            ...   \n",
       "7368   9/20/1980           13.0           13.0   \n",
       "7383   6/12/1976           64.0           20.0   \n",
       "7387   8/21/1976           20.0           20.0   \n",
       "7400   5/28/1977           65.0           15.0   \n",
       "7406  12/24/1977           38.0           20.0   \n",
       "\n",
       "                                                 Lyrics  \n",
       "9     [Intro]\\n\\n[Verse 1: Buck Dharma]\\nAll our tim...  \n",
       "10    Every time I move, I lose\\nWhen I look I'm in\\...  \n",
       "38    [Chorus:]\\nLove is higher than a mountain\\nLov...  \n",
       "41    Maybe I don't wanna know the reason why\\nBut l...  \n",
       "43    [Intro]\\nAh everybody, get on the floor, and l...  \n",
       "...                                                 ...  \n",
       "7368  Oh baby\\nSay, now, you\\nYou talk about The thi...  \n",
       "7383  I saw her standing on the corner\\nA yellow rib...  \n",
       "7387  What's the sense in sharing this one and only ...  \n",
       "7400  YOUR LOVE\\nMarilyn McCoo & Billy Davis\\nEach d...  \n",
       "7406  [Verse 1]\\nWhenever I see your smiling face\\nI...  \n",
       "\n",
       "[654 rows x 11 columns]"
      ]
     },
     "execution_count": 7,
     "metadata": {},
     "output_type": "execute_result"
    }
   ],
   "source": [
    "tiny_df = df[\n",
    "    df.WeekID.str.endswith('1980') |\n",
    "    df.WeekID.str.endswith('1979') |\n",
    "    df.WeekID.str.endswith('1978') |\n",
    "    df.WeekID.str.endswith('1977') |\n",
    "    df.WeekID.str.endswith('1976')\n",
    "]\n",
    "tiny_df"
   ]
  },
  {
   "cell_type": "code",
   "execution_count": 8,
   "id": "0367b308",
   "metadata": {},
   "outputs": [
    {
     "name": "stderr",
     "output_type": "stream",
     "text": [
      "/Users/dmora/.virtualenvs/jupyter3.7/lib/python3.7/site-packages/ipykernel_launcher.py:2: SettingWithCopyWarning: \n",
      "A value is trying to be set on a copy of a slice from a DataFrame.\n",
      "Try using .loc[row_indexer,col_indexer] = value instead\n",
      "\n",
      "See the caveats in the documentation: https://pandas.pydata.org/pandas-docs/stable/user_guide/indexing.html#returning-a-view-versus-a-copy\n",
      "  \n"
     ]
    }
   ],
   "source": [
    "# tiny_df['Parsed Lyrics'] = tiny_df.Lyrics.apply(lambda l: l.split('\\n')[:5])\n",
    "tiny_df['Parsed Lyrics'] = tiny_df.Lyrics.apply(lambda l: l.split('\\n'))"
   ]
  },
  {
   "cell_type": "code",
   "execution_count": 9,
   "id": "38f5de62",
   "metadata": {},
   "outputs": [],
   "source": [
    "tiny_df_parsed = tiny_df.explode('Parsed Lyrics').drop_duplicates(\n",
    "    subset=['Parsed Lyrics', 'SongID']\n",
    ").drop(\n",
    "    columns=['Lyrics']\n",
    ").rename(columns={'Parsed Lyrics': 'lyric_line'})\n"
   ]
  },
  {
   "cell_type": "markdown",
   "id": "716735a0",
   "metadata": {},
   "source": [
    "### Filter & clean"
   ]
  },
  {
   "cell_type": "code",
   "execution_count": 10,
   "id": "e4a183d4",
   "metadata": {},
   "outputs": [],
   "source": [
    "ENDS_WITH_YEAR_IN_PAREN = '\\(\\d{4}?\\)$'  # eg \"... (2018)\"\n",
    "BRACKETED = '^\\[.*?\\]$'  # eg \"[...]\"\n",
    "SONG_DASH_ARTIST = '[A-Z].+\\s\\-\\s[A-Z].+'  # EG \"Ariana Grande and Victoria MonÃ©t - MONOPOLY\"\n",
    "\n",
    "with_filters = tiny_df_parsed[\n",
    "    ~tiny_df_parsed['lyric_line'].str.contains(\n",
    "        f'{BRACKETED}|{ENDS_WITH_YEAR_IN_PAREN}|{SONG_DASH_ARTIST}', \n",
    "        regex= True, case=False, na=False\n",
    "    )\n",
    "]"
   ]
  },
  {
   "cell_type": "code",
   "execution_count": 11,
   "id": "796e9565",
   "metadata": {},
   "outputs": [
    {
     "name": "stderr",
     "output_type": "stream",
     "text": [
      "/Users/dmora/.virtualenvs/jupyter3.7/lib/python3.7/site-packages/ipykernel_launcher.py:2: SettingWithCopyWarning: \n",
      "A value is trying to be set on a copy of a slice from a DataFrame.\n",
      "Try using .loc[row_indexer,col_indexer] = value instead\n",
      "\n",
      "See the caveats in the documentation: https://pandas.pydata.org/pandas-docs/stable/user_guide/indexing.html#returning-a-view-versus-a-copy\n",
      "  \n"
     ]
    }
   ],
   "source": [
    "with_more_filters = with_filters[~with_filters.lyric_line.str.contains('\" by ')]\n",
    "with_more_filters['lyric_line'] = with_more_filters.lyric_line.str.replace('EmbedShare URLCopyEmbedCopy', '')"
   ]
  },
  {
   "cell_type": "markdown",
   "id": "0ba4b029",
   "metadata": {},
   "source": [
    "# NOTE: I'm dropping any row with *any* MISSING DATA \n",
    "Maybe we try something less aggressive later (eg blank genre is ok)"
   ]
  },
  {
   "cell_type": "code",
   "execution_count": 12,
   "id": "3209102a",
   "metadata": {},
   "outputs": [
    {
     "data": {
      "text/html": [
       "<div>\n",
       "<style scoped>\n",
       "    .dataframe tbody tr th:only-of-type {\n",
       "        vertical-align: middle;\n",
       "    }\n",
       "\n",
       "    .dataframe tbody tr th {\n",
       "        vertical-align: top;\n",
       "    }\n",
       "\n",
       "    .dataframe thead th {\n",
       "        text-align: right;\n",
       "    }\n",
       "</style>\n",
       "<table border=\"1\" class=\"dataframe\">\n",
       "  <thead>\n",
       "    <tr style=\"text-align: right;\">\n",
       "      <th></th>\n",
       "      <th>Performer</th>\n",
       "      <th>Song</th>\n",
       "      <th>spotify_genre</th>\n",
       "      <th>lyric_line</th>\n",
       "      <th>WeekID</th>\n",
       "    </tr>\n",
       "  </thead>\n",
       "  <tbody>\n",
       "    <tr>\n",
       "      <th>0</th>\n",
       "      <td>Blue Oyster Cult</td>\n",
       "      <td>(Don't Fear) The Reaper</td>\n",
       "      <td>['album rock', 'art rock', 'blues rock', 'clas...</td>\n",
       "      <td>All our times have come</td>\n",
       "      <td>11/20/1976</td>\n",
       "    </tr>\n",
       "    <tr>\n",
       "      <th>1</th>\n",
       "      <td>Blue Oyster Cult</td>\n",
       "      <td>(Don't Fear) The Reaper</td>\n",
       "      <td>['album rock', 'art rock', 'blues rock', 'clas...</td>\n",
       "      <td>Here, but now they're gone</td>\n",
       "      <td>11/20/1976</td>\n",
       "    </tr>\n",
       "    <tr>\n",
       "      <th>2</th>\n",
       "      <td>Blue Oyster Cult</td>\n",
       "      <td>(Don't Fear) The Reaper</td>\n",
       "      <td>['album rock', 'art rock', 'blues rock', 'clas...</td>\n",
       "      <td>Seasons don't fear the reaper</td>\n",
       "      <td>11/20/1976</td>\n",
       "    </tr>\n",
       "    <tr>\n",
       "      <th>3</th>\n",
       "      <td>Blue Oyster Cult</td>\n",
       "      <td>(Don't Fear) The Reaper</td>\n",
       "      <td>['album rock', 'art rock', 'blues rock', 'clas...</td>\n",
       "      <td>Nor do the wind, the sun or the rain</td>\n",
       "      <td>11/20/1976</td>\n",
       "    </tr>\n",
       "    <tr>\n",
       "      <th>4</th>\n",
       "      <td>Blue Oyster Cult</td>\n",
       "      <td>(Don't Fear) The Reaper</td>\n",
       "      <td>['album rock', 'art rock', 'blues rock', 'clas...</td>\n",
       "      <td>(We can be like they are) Come on, baby</td>\n",
       "      <td>11/20/1976</td>\n",
       "    </tr>\n",
       "    <tr>\n",
       "      <th>...</th>\n",
       "      <td>...</td>\n",
       "      <td>...</td>\n",
       "      <td>...</td>\n",
       "      <td>...</td>\n",
       "      <td>...</td>\n",
       "    </tr>\n",
       "    <tr>\n",
       "      <th>42665</th>\n",
       "      <td>James Taylor</td>\n",
       "      <td>Your Smiling Face</td>\n",
       "      <td>['adult standards', 'folk', 'folk rock', 'mell...</td>\n",
       "      <td>Whenever I see you smile at me</td>\n",
       "      <td>12/24/1977</td>\n",
       "    </tr>\n",
       "    <tr>\n",
       "      <th>42666</th>\n",
       "      <td>James Taylor</td>\n",
       "      <td>Your Smiling Face</td>\n",
       "      <td>['adult standards', 'folk', 'folk rock', 'mell...</td>\n",
       "      <td>No one can tell me that, tell me that I'm doin...</td>\n",
       "      <td>12/24/1977</td>\n",
       "    </tr>\n",
       "    <tr>\n",
       "      <th>42667</th>\n",
       "      <td>James Taylor</td>\n",
       "      <td>Your Smiling Face</td>\n",
       "      <td>['adult standards', 'folk', 'folk rock', 'mell...</td>\n",
       "      <td>Whenever I see your smiling face my way</td>\n",
       "      <td>12/24/1977</td>\n",
       "    </tr>\n",
       "    <tr>\n",
       "      <th>42668</th>\n",
       "      <td>James Taylor</td>\n",
       "      <td>Your Smiling Face</td>\n",
       "      <td>['adult standards', 'folk', 'folk rock', 'mell...</td>\n",
       "      <td>No one can tell me that I'm doing wrong today,...</td>\n",
       "      <td>12/24/1977</td>\n",
       "    </tr>\n",
       "    <tr>\n",
       "      <th>42669</th>\n",
       "      <td>James Taylor</td>\n",
       "      <td>Your Smiling Face</td>\n",
       "      <td>['adult standards', 'folk', 'folk rock', 'mell...</td>\n",
       "      <td>No no, darling, no no, yeah yeah</td>\n",
       "      <td>12/24/1977</td>\n",
       "    </tr>\n",
       "  </tbody>\n",
       "</table>\n",
       "<p>42670 rows × 5 columns</p>\n",
       "</div>"
      ],
      "text/plain": [
       "              Performer                     Song  \\\n",
       "0      Blue Oyster Cult  (Don't Fear) The Reaper   \n",
       "1      Blue Oyster Cult  (Don't Fear) The Reaper   \n",
       "2      Blue Oyster Cult  (Don't Fear) The Reaper   \n",
       "3      Blue Oyster Cult  (Don't Fear) The Reaper   \n",
       "4      Blue Oyster Cult  (Don't Fear) The Reaper   \n",
       "...                 ...                      ...   \n",
       "42665      James Taylor        Your Smiling Face   \n",
       "42666      James Taylor        Your Smiling Face   \n",
       "42667      James Taylor        Your Smiling Face   \n",
       "42668      James Taylor        Your Smiling Face   \n",
       "42669      James Taylor        Your Smiling Face   \n",
       "\n",
       "                                           spotify_genre  \\\n",
       "0      ['album rock', 'art rock', 'blues rock', 'clas...   \n",
       "1      ['album rock', 'art rock', 'blues rock', 'clas...   \n",
       "2      ['album rock', 'art rock', 'blues rock', 'clas...   \n",
       "3      ['album rock', 'art rock', 'blues rock', 'clas...   \n",
       "4      ['album rock', 'art rock', 'blues rock', 'clas...   \n",
       "...                                                  ...   \n",
       "42665  ['adult standards', 'folk', 'folk rock', 'mell...   \n",
       "42666  ['adult standards', 'folk', 'folk rock', 'mell...   \n",
       "42667  ['adult standards', 'folk', 'folk rock', 'mell...   \n",
       "42668  ['adult standards', 'folk', 'folk rock', 'mell...   \n",
       "42669  ['adult standards', 'folk', 'folk rock', 'mell...   \n",
       "\n",
       "                                              lyric_line      WeekID  \n",
       "0                                All our times have come  11/20/1976  \n",
       "1                             Here, but now they're gone  11/20/1976  \n",
       "2                          Seasons don't fear the reaper  11/20/1976  \n",
       "3                   Nor do the wind, the sun or the rain  11/20/1976  \n",
       "4                (We can be like they are) Come on, baby  11/20/1976  \n",
       "...                                                  ...         ...  \n",
       "42665                     Whenever I see you smile at me  12/24/1977  \n",
       "42666  No one can tell me that, tell me that I'm doin...  12/24/1977  \n",
       "42667            Whenever I see your smiling face my way  12/24/1977  \n",
       "42668  No one can tell me that I'm doing wrong today,...  12/24/1977  \n",
       "42669                   No no, darling, no no, yeah yeah  12/24/1977  \n",
       "\n",
       "[42670 rows x 5 columns]"
      ]
     },
     "execution_count": 12,
     "metadata": {},
     "output_type": "execute_result"
    }
   ],
   "source": [
    "COLUMNS_FOR_VIZ = ['Performer', 'Song', 'spotify_genre', 'lyric_line', 'WeekID']\n",
    "\n",
    "lyric_lines_ready_for_analysis = (\n",
    "    with_more_filters[\n",
    "        COLUMNS_FOR_VIZ\n",
    "    ]\n",
    "    .replace('', np.nan)\n",
    "    .dropna()\n",
    "    .reset_index(drop=True)\n",
    ")\n",
    "\n",
    "lyric_lines_ready_for_analysis['lyric_line'] = lyric_lines_ready_for_analysis['lyric_line'].apply(\n",
    "    lambda val: val and val.replace('â\\x80\\x99', \"'\")\n",
    ")\n",
    "lyric_lines_ready_for_analysis"
   ]
  },
  {
   "cell_type": "markdown",
   "id": "e6b8afe0",
   "metadata": {},
   "source": [
    "# EMBED WORDS USING Universal Encoder"
   ]
  },
  {
   "cell_type": "code",
   "execution_count": 13,
   "id": "9812ba08",
   "metadata": {},
   "outputs": [],
   "source": [
    "#@title Load the Universal Sentence Encoder's TF Hub module\n",
    "from absl import logging\n",
    "\n",
    "import tensorflow as tf\n",
    "\n",
    "import tensorflow_hub as hub\n",
    "import matplotlib.pyplot as plt\n",
    "import numpy as np\n",
    "import os\n",
    "import pandas as pd\n",
    "import re\n",
    "import seaborn as sns"
   ]
  },
  {
   "cell_type": "code",
   "execution_count": 14,
   "id": "1338712d",
   "metadata": {},
   "outputs": [
    {
     "name": "stderr",
     "output_type": "stream",
     "text": [
      "2021-11-30 14:55:40.392424: I tensorflow/core/platform/cpu_feature_guard.cc:151] This TensorFlow binary is optimized with oneAPI Deep Neural Network Library (oneDNN) to use the following CPU instructions in performance-critical operations:  AVX2 FMA\n",
      "To enable them in other operations, rebuild TensorFlow with the appropriate compiler flags.\n"
     ]
    }
   ],
   "source": [
    "model = hub.load('./data/universal-sentence-encoder-large_5/')"
   ]
  },
  {
   "cell_type": "code",
   "execution_count": 15,
   "id": "4d5ee73f",
   "metadata": {},
   "outputs": [],
   "source": [
    "def embed(input):\n",
    "    return model(input)"
   ]
  },
  {
   "cell_type": "code",
   "execution_count": null,
   "id": "75c828c6",
   "metadata": {},
   "outputs": [],
   "source": [
    "message_embeddings = embed(lyric_lines_ready_for_analysis['lyric_line'])"
   ]
  },
  {
   "cell_type": "markdown",
   "id": "00a8cfd9",
   "metadata": {},
   "source": [
    "# Dimension reduction"
   ]
  },
  {
   "cell_type": "markdown",
   "id": "6579d6ea",
   "metadata": {},
   "source": [
    "## Dimension reduction with TSNE"
   ]
  },
  {
   "cell_type": "code",
   "execution_count": null,
   "id": "35cac027",
   "metadata": {},
   "outputs": [],
   "source": [
    "from sklearn.manifold import TSNE"
   ]
  },
  {
   "cell_type": "code",
   "execution_count": null,
   "id": "d67ae07f",
   "metadata": {},
   "outputs": [],
   "source": [
    "# tsne_transformed_embeddings = TSNE(\n",
    "#     n_components=2,\n",
    "#     learning_rate='auto',\n",
    "#     init='pca'\n",
    "# ).fit_transform(message_embeddings)"
   ]
  },
  {
   "cell_type": "code",
   "execution_count": null,
   "id": "6e00b9e9",
   "metadata": {},
   "outputs": [],
   "source": [
    "def concat_x_and_y(x_and_y, df):\n",
    "    return pd.concat(\n",
    "    [df, pd.DataFrame(x_and_y, columns=['x', 'y'])],\n",
    "    axis=1\n",
    ")"
   ]
  },
  {
   "cell_type": "code",
   "execution_count": null,
   "id": "05bbe440",
   "metadata": {},
   "outputs": [],
   "source": [
    "# tsne_lyrics_and_artist = concat_x_and_y(\n",
    "#     tsne_transformed_embeddings, \n",
    "#     lyric_lines_ready_for_analysis\n",
    "# )"
   ]
  },
  {
   "cell_type": "code",
   "execution_count": null,
   "id": "69e4cb52",
   "metadata": {},
   "outputs": [],
   "source": [
    "# sns.scatterplot(data=tsne_lyrics_and_artist, x='x', y='y')"
   ]
  },
  {
   "cell_type": "markdown",
   "id": "5abd2fb8",
   "metadata": {},
   "source": [
    "# Dimension reduction with UMAP"
   ]
  },
  {
   "cell_type": "code",
   "execution_count": null,
   "id": "2642e7bd",
   "metadata": {},
   "outputs": [],
   "source": [
    "import umap\n",
    "from sklearn.preprocessing import StandardScaler"
   ]
  },
  {
   "cell_type": "code",
   "execution_count": null,
   "id": "9c7dd658",
   "metadata": {},
   "outputs": [],
   "source": [
    "reducer = umap.UMAP()"
   ]
  },
  {
   "cell_type": "code",
   "execution_count": null,
   "id": "a37f3046",
   "metadata": {},
   "outputs": [],
   "source": [
    "embedding = reducer.fit_transform(\n",
    "    StandardScaler().fit_transform(message_embeddings)\n",
    ")"
   ]
  },
  {
   "cell_type": "code",
   "execution_count": null,
   "id": "cc2f4afa",
   "metadata": {},
   "outputs": [],
   "source": [
    "umap_x_and_y_added = concat_x_and_y(\n",
    "    embedding, \n",
    "    df=lyric_lines_ready_for_analysis\n",
    ")\n",
    "umap_x_and_y_added"
   ]
  },
  {
   "cell_type": "code",
   "execution_count": null,
   "id": "99616962",
   "metadata": {},
   "outputs": [],
   "source": [
    "sns.scatterplot(data=umap_x_and_y_added, x='x', y='y')"
   ]
  },
  {
   "cell_type": "markdown",
   "id": "b05234e2",
   "metadata": {},
   "source": [
    "## Export to CSV"
   ]
  },
  {
   "cell_type": "code",
   "execution_count": null,
   "id": "f7ab27d8",
   "metadata": {},
   "outputs": [],
   "source": [
    "def normalize_zero_to_one(s):\n",
    "    return (s - s.min()) / (s.max() - s.min())\n",
    "\n",
    "def export_normalized_data(data):\n",
    "    temp = data.copy().dropna()\n",
    "    temp['x'] = normalize_zero_to_one(temp.x)\n",
    "    temp['y'] = normalize_zero_to_one(temp.y)\n",
    "    temp['x'] = temp['x'].round(3)\n",
    "    temp['y'] = temp['y'].round(3)\n",
    "    export = temp\n",
    "    export.to_csv('./data/viz ready export 1976 - 1980.csv', index=False)\n",
    "    return export"
   ]
  },
  {
   "cell_type": "code",
   "execution_count": null,
   "id": "a1065aa1",
   "metadata": {},
   "outputs": [],
   "source": [
    "the_export = export_normalized_data(umap_x_and_y_added)\n",
    "the_export"
   ]
  },
  {
   "cell_type": "markdown",
   "id": "4768e758",
   "metadata": {},
   "source": [
    "# List of all: genres, artists"
   ]
  },
  {
   "cell_type": "code",
   "execution_count": null,
   "id": "4eb86196",
   "metadata": {},
   "outputs": [],
   "source": [
    "my_set = set()\n",
    "the_export['Performer'].unique()"
   ]
  },
  {
   "cell_type": "code",
   "execution_count": null,
   "id": "1d94084a",
   "metadata": {},
   "outputs": [],
   "source": [
    "from ast import literal_eval\n",
    "\n",
    "my_set = set()\n",
    "the_export['spotify_genre'].apply(\n",
    "    lambda val: val and my_set.update(literal_eval(val))\n",
    ")\n",
    "my_set"
   ]
  },
  {
   "cell_type": "code",
   "execution_count": null,
   "id": "20a2505a",
   "metadata": {},
   "outputs": [],
   "source": [
    "rap_genres = [genre for genre in list(my_set) if 'rap' in genre]"
   ]
  },
  {
   "cell_type": "code",
   "execution_count": null,
   "id": "96988b77",
   "metadata": {},
   "outputs": [],
   "source": [
    "pop_genres = [genre for genre in list(my_set) if 'pop' in genre]\n",
    "pop_genres"
   ]
  },
  {
   "cell_type": "code",
   "execution_count": null,
   "id": "9f393977",
   "metadata": {},
   "outputs": [],
   "source": []
  }
 ],
 "metadata": {
  "kernelspec": {
   "display_name": "Python 3 (ipykernel)",
   "language": "python",
   "name": "python3"
  },
  "language_info": {
   "codemirror_mode": {
    "name": "ipython",
    "version": 3
   },
   "file_extension": ".py",
   "mimetype": "text/x-python",
   "name": "python",
   "nbconvert_exporter": "python",
   "pygments_lexer": "ipython3",
   "version": "3.7.12"
  }
 },
 "nbformat": 4,
 "nbformat_minor": 5
}
