{
 "cells": [
  {
   "cell_type": "code",
   "execution_count": 4,
   "id": "f37b6dce",
   "metadata": {},
   "outputs": [
    {
     "data": {
      "text/plain": [
       "'1.19.5'"
      ]
     },
     "execution_count": 4,
     "metadata": {},
     "output_type": "execute_result"
    }
   ],
   "source": [
    "import pandas as pd\n",
    "import numpy as np\n",
    "\n",
    "np.__version__"
   ]
  },
  {
   "cell_type": "markdown",
   "id": "cfbff2d8",
   "metadata": {},
   "source": [
    "# Pull in data (prepped in other notebook)"
   ]
  },
  {
   "cell_type": "code",
   "execution_count": 10,
   "id": "fbc360d4",
   "metadata": {},
   "outputs": [],
   "source": [
    "lyric_lines_ready_for_analysis = pd.read_csv('./data/3 OUTPUT One lyric lines per row, cleaned.csv')"
   ]
  },
  {
   "cell_type": "code",
   "execution_count": 11,
   "id": "938f8f13",
   "metadata": {},
   "outputs": [
    {
     "data": {
      "text/html": [
       "<div>\n",
       "<style scoped>\n",
       "    .dataframe tbody tr th:only-of-type {\n",
       "        vertical-align: middle;\n",
       "    }\n",
       "\n",
       "    .dataframe tbody tr th {\n",
       "        vertical-align: top;\n",
       "    }\n",
       "\n",
       "    .dataframe thead th {\n",
       "        text-align: right;\n",
       "    }\n",
       "</style>\n",
       "<table border=\"1\" class=\"dataframe\">\n",
       "  <thead>\n",
       "    <tr style=\"text-align: right;\">\n",
       "      <th></th>\n",
       "      <th>Performer</th>\n",
       "      <th>Song</th>\n",
       "      <th>spotify_genre</th>\n",
       "      <th>lyric_line</th>\n",
       "      <th>WeekID</th>\n",
       "    </tr>\n",
       "  </thead>\n",
       "  <tbody>\n",
       "    <tr>\n",
       "      <th>0</th>\n",
       "      <td>John Lennon</td>\n",
       "      <td>#9 Dream</td>\n",
       "      <td>['album rock', 'classic rock', 'folk rock', 'm...</td>\n",
       "      <td>So long ago</td>\n",
       "      <td>2/22/1975</td>\n",
       "    </tr>\n",
       "    <tr>\n",
       "      <th>1</th>\n",
       "      <td>John Lennon</td>\n",
       "      <td>#9 Dream</td>\n",
       "      <td>['album rock', 'classic rock', 'folk rock', 'm...</td>\n",
       "      <td>Was it in a dream, was it just a dream?</td>\n",
       "      <td>2/22/1975</td>\n",
       "    </tr>\n",
       "    <tr>\n",
       "      <th>2</th>\n",
       "      <td>John Lennon</td>\n",
       "      <td>#9 Dream</td>\n",
       "      <td>['album rock', 'classic rock', 'folk rock', 'm...</td>\n",
       "      <td>I know, yes I know</td>\n",
       "      <td>2/22/1975</td>\n",
       "    </tr>\n",
       "    <tr>\n",
       "      <th>3</th>\n",
       "      <td>John Lennon</td>\n",
       "      <td>#9 Dream</td>\n",
       "      <td>['album rock', 'classic rock', 'folk rock', 'm...</td>\n",
       "      <td>Seemed so very real, it seemed so real to me</td>\n",
       "      <td>2/22/1975</td>\n",
       "    </tr>\n",
       "    <tr>\n",
       "      <th>4</th>\n",
       "      <td>John Lennon</td>\n",
       "      <td>#9 Dream</td>\n",
       "      <td>['album rock', 'classic rock', 'folk rock', 'm...</td>\n",
       "      <td>Took a walk down the street</td>\n",
       "      <td>2/22/1975</td>\n",
       "    </tr>\n",
       "  </tbody>\n",
       "</table>\n",
       "</div>"
      ],
      "text/plain": [
       "     Performer      Song                                      spotify_genre  \\\n",
       "0  John Lennon  #9 Dream  ['album rock', 'classic rock', 'folk rock', 'm...   \n",
       "1  John Lennon  #9 Dream  ['album rock', 'classic rock', 'folk rock', 'm...   \n",
       "2  John Lennon  #9 Dream  ['album rock', 'classic rock', 'folk rock', 'm...   \n",
       "3  John Lennon  #9 Dream  ['album rock', 'classic rock', 'folk rock', 'm...   \n",
       "4  John Lennon  #9 Dream  ['album rock', 'classic rock', 'folk rock', 'm...   \n",
       "\n",
       "                                     lyric_line     WeekID  \n",
       "0                                   So long ago  2/22/1975  \n",
       "1       Was it in a dream, was it just a dream?  2/22/1975  \n",
       "2                            I know, yes I know  2/22/1975  \n",
       "3  Seemed so very real, it seemed so real to me  2/22/1975  \n",
       "4                   Took a walk down the street  2/22/1975  "
      ]
     },
     "execution_count": 11,
     "metadata": {},
     "output_type": "execute_result"
    }
   ],
   "source": [
    "lyric_lines_ready_for_analysis.head()"
   ]
  },
  {
   "cell_type": "markdown",
   "id": "e6b8afe0",
   "metadata": {},
   "source": [
    "# EMBED WORDS USING Universal Encoder"
   ]
  },
  {
   "cell_type": "code",
   "execution_count": 12,
   "id": "9812ba08",
   "metadata": {},
   "outputs": [],
   "source": [
    "#@title Load the Universal Sentence Encoder's TF Hub module\n",
    "from absl import logging\n",
    "\n",
    "import tensorflow as tf\n",
    "\n",
    "import tensorflow_hub as hub\n",
    "import matplotlib.pyplot as plt\n",
    "import numpy as np\n",
    "import os\n",
    "import pandas as pd\n",
    "import re\n",
    "import seaborn as sns"
   ]
  },
  {
   "cell_type": "code",
   "execution_count": 13,
   "id": "1338712d",
   "metadata": {},
   "outputs": [
    {
     "name": "stderr",
     "output_type": "stream",
     "text": [
      "2022-10-28 16:16:40.201089: I tensorflow/core/platform/cpu_feature_guard.cc:151] This TensorFlow binary is optimized with oneAPI Deep Neural Network Library (oneDNN) to use the following CPU instructions in performance-critical operations:  AVX2 FMA\n",
      "To enable them in other operations, rebuild TensorFlow with the appropriate compiler flags.\n"
     ]
    }
   ],
   "source": [
    "model = hub.load('./data/universal-sentence-encoder-large_5/')"
   ]
  },
  {
   "cell_type": "code",
   "execution_count": 14,
   "id": "4d5ee73f",
   "metadata": {},
   "outputs": [],
   "source": [
    "def embed(input):\n",
    "    return model(input)"
   ]
  },
  {
   "cell_type": "code",
   "execution_count": null,
   "id": "75c828c6",
   "metadata": {},
   "outputs": [],
   "source": [
    "message_embeddings = embed(lyric_lines_ready_for_analysis['lyric_line'])"
   ]
  },
  {
   "cell_type": "markdown",
   "id": "00a8cfd9",
   "metadata": {},
   "source": [
    "# Dimension reduction"
   ]
  },
  {
   "cell_type": "markdown",
   "id": "6579d6ea",
   "metadata": {},
   "source": [
    "## Dimension reduction with TSNE"
   ]
  },
  {
   "cell_type": "code",
   "execution_count": null,
   "id": "35cac027",
   "metadata": {},
   "outputs": [],
   "source": [
    "from sklearn.manifold import TSNE"
   ]
  },
  {
   "cell_type": "code",
   "execution_count": null,
   "id": "d67ae07f",
   "metadata": {},
   "outputs": [],
   "source": [
    "# tsne_transformed_embeddings = TSNE(\n",
    "#     n_components=2,\n",
    "#     learning_rate='auto',\n",
    "#     init='pca'\n",
    "# ).fit_transform(message_embeddings)"
   ]
  },
  {
   "cell_type": "code",
   "execution_count": null,
   "id": "6e00b9e9",
   "metadata": {},
   "outputs": [],
   "source": [
    "def concat_x_and_y(x_and_y, df):\n",
    "    return pd.concat(\n",
    "    [df, pd.DataFrame(x_and_y, columns=['x', 'y'])],\n",
    "    axis=1\n",
    ")"
   ]
  },
  {
   "cell_type": "code",
   "execution_count": null,
   "id": "05bbe440",
   "metadata": {},
   "outputs": [],
   "source": [
    "# tsne_lyrics_and_artist = concat_x_and_y(\n",
    "#     tsne_transformed_embeddings, \n",
    "#     lyric_lines_ready_for_analysis\n",
    "# )"
   ]
  },
  {
   "cell_type": "code",
   "execution_count": null,
   "id": "69e4cb52",
   "metadata": {},
   "outputs": [],
   "source": [
    "# sns.scatterplot(data=tsne_lyrics_and_artist, x='x', y='y')"
   ]
  },
  {
   "cell_type": "markdown",
   "id": "5abd2fb8",
   "metadata": {},
   "source": [
    "# Dimension reduction with UMAP"
   ]
  },
  {
   "cell_type": "code",
   "execution_count": null,
   "id": "2642e7bd",
   "metadata": {},
   "outputs": [],
   "source": [
    "import umap\n",
    "from sklearn.preprocessing import StandardScaler"
   ]
  },
  {
   "cell_type": "code",
   "execution_count": null,
   "id": "9c7dd658",
   "metadata": {},
   "outputs": [],
   "source": [
    "reducer = umap.UMAP()"
   ]
  },
  {
   "cell_type": "code",
   "execution_count": null,
   "id": "a37f3046",
   "metadata": {},
   "outputs": [],
   "source": [
    "embedding = reducer.fit_transform(\n",
    "    StandardScaler().fit_transform(message_embeddings)\n",
    ")"
   ]
  },
  {
   "cell_type": "code",
   "execution_count": null,
   "id": "cc2f4afa",
   "metadata": {},
   "outputs": [],
   "source": [
    "umap_x_and_y_added = concat_x_and_y(\n",
    "    embedding, \n",
    "    df=lyric_lines_ready_for_analysis\n",
    ")\n",
    "umap_x_and_y_added"
   ]
  },
  {
   "cell_type": "code",
   "execution_count": null,
   "id": "99616962",
   "metadata": {},
   "outputs": [],
   "source": [
    "sns.scatterplot(data=umap_x_and_y_added, x='x', y='y')"
   ]
  },
  {
   "cell_type": "markdown",
   "id": "b05234e2",
   "metadata": {},
   "source": [
    "## Export to CSV"
   ]
  },
  {
   "cell_type": "code",
   "execution_count": null,
   "id": "f7ab27d8",
   "metadata": {},
   "outputs": [],
   "source": [
    "def normalize_zero_to_one(s):\n",
    "    return (s - s.min()) / (s.max() - s.min())\n",
    "\n",
    "def export_normalized_data(data):\n",
    "    temp = data.copy().dropna()\n",
    "    temp['x'] = normalize_zero_to_one(temp.x)\n",
    "    temp['y'] = normalize_zero_to_one(temp.y)\n",
    "    temp['x'] = temp['x'].round(3)\n",
    "    temp['y'] = temp['y'].round(3)\n",
    "    export = temp\n",
    "    export.to_csv('./data/viz ready export 1976 - 1980.csv', index=False)\n",
    "    return export"
   ]
  },
  {
   "cell_type": "code",
   "execution_count": null,
   "id": "a1065aa1",
   "metadata": {},
   "outputs": [],
   "source": [
    "the_export = export_normalized_data(umap_x_and_y_added)\n",
    "the_export"
   ]
  },
  {
   "cell_type": "markdown",
   "id": "4768e758",
   "metadata": {},
   "source": [
    "# List of all: genres, artists"
   ]
  },
  {
   "cell_type": "code",
   "execution_count": null,
   "id": "4eb86196",
   "metadata": {},
   "outputs": [],
   "source": [
    "my_set = set()\n",
    "the_export['Performer'].unique()"
   ]
  },
  {
   "cell_type": "code",
   "execution_count": null,
   "id": "1d94084a",
   "metadata": {},
   "outputs": [],
   "source": [
    "from ast import literal_eval\n",
    "\n",
    "my_set = set()\n",
    "the_export['spotify_genre'].apply(\n",
    "    lambda val: val and my_set.update(literal_eval(val))\n",
    ")\n",
    "my_set"
   ]
  },
  {
   "cell_type": "code",
   "execution_count": null,
   "id": "20a2505a",
   "metadata": {},
   "outputs": [],
   "source": [
    "rap_genres = [genre for genre in list(my_set) if 'rap' in genre]"
   ]
  },
  {
   "cell_type": "code",
   "execution_count": null,
   "id": "96988b77",
   "metadata": {},
   "outputs": [],
   "source": [
    "pop_genres = [genre for genre in list(my_set) if 'pop' in genre]\n",
    "pop_genres"
   ]
  },
  {
   "cell_type": "code",
   "execution_count": null,
   "id": "9f393977",
   "metadata": {},
   "outputs": [],
   "source": []
  }
 ],
 "metadata": {
  "kernelspec": {
   "display_name": "Python 3 (ipykernel)",
   "language": "python",
   "name": "python3"
  },
  "language_info": {
   "codemirror_mode": {
    "name": "ipython",
    "version": 3
   },
   "file_extension": ".py",
   "mimetype": "text/x-python",
   "name": "python",
   "nbconvert_exporter": "python",
   "pygments_lexer": "ipython3",
   "version": "3.7.12"
  }
 },
 "nbformat": 4,
 "nbformat_minor": 5
}
